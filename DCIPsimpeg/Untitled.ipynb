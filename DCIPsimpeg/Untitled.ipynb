{
 "cells": [
  {
   "cell_type": "code",
   "execution_count": 14,
   "metadata": {},
   "outputs": [
    {
     "name": "stdout",
     "output_type": "stream",
     "text": [
      "ExpMap(35,35)\n"
     ]
    },
    {
     "data": {
      "image/png": "[encoded data removed]",
      "text/plain": [
       "<matplotlib.figure.Figure at 0x10fca6ed0>"
      ]
     },
     "metadata": {},
     "output_type": "display_data"
    }
   ],
   "source": [
    "from SimPEG import Mesh, Maps\n",
    "import numpy as np\n",
    "import matplotlib.pyplot as plt\n",
    "\n",
    "\n",
    "def run(plotIt=True):\n",
    "\n",
    "    M = Mesh.TensorMesh([7, 5])\n",
    "    v1dMap = Maps.SurjectVertical1D(M)\n",
    "    expMap = Maps.ExpMap(M)\n",
    "    myMap = expMap * v1dMap\n",
    "    m = np.r_[0.2, 1, 0.1, 2, 2.9]  # only 5 model parameters!\n",
    "    sig = myMap * m\n",
    "    print(expMap)\n",
    "    if not plotIt:\n",
    "        return\n",
    "\n",
    "    figs, axs = plt.subplots(1, 2)\n",
    "    axs[0].plot(m, M.vectorCCy, 'b-o')\n",
    "    axs[0].set_title('Model')\n",
    "    axs[0].set_ylabel('Depth, y')\n",
    "    axs[0].set_xlabel('Value, $m_i$')\n",
    "    axs[0].set_xlim(0, 3)\n",
    "    axs[0].set_ylim(0, 1)\n",
    "#     clbar = plt.colorbar(M.plotImage(\n",
    "#         sig, ax=axs[1], grid=True, gridOpts=dict(color='grey')\n",
    "#     )[0])\n",
    "#     axs[1].set_title('Physical Property')\n",
    "#     axs[1].set_ylabel('Depth, y')\n",
    "#     clbar.set_label('$\\sigma = \\exp(\\mathbf{P}m)$')\n",
    "    plt.tight_layout()\n",
    "\n",
    "\n",
    "if __name__ == '__main__':\n",
    "    run()\n",
    "    plt.show()"
   ]
  },
  {
   "cell_type": "code",
   "execution_count": null,
   "metadata": {
    "collapsed": true
   },
   "outputs": [],
   "source": []
  }
 ],
 "metadata": {
  "kernelspec": {
   "display_name": "Python 2",
   "language": "python",
   "name": "python2"
  },
  "language_info": {
   "codemirror_mode": {
    "name": "ipython",
    "version": 2
   },
   "file_extension": ".py",
   "mimetype": "text/x-python",
   "name": "python",
   "nbconvert_exporter": "python",
   "pygments_lexer": "ipython2",
   "version": "2.7.14"
  }
 },
 "nbformat": 4,
 "nbformat_minor": 2
}
